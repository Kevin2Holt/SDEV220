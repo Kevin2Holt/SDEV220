{
 "cells": [
  {
   "cell_type": "code",
   "execution_count": 1,
   "id": "642aff87",
   "metadata": {},
   "outputs": [],
   "source": [
    "assert sum([1,2,3]) == 6, \"Should be 6\""
   ]
  },
  {
   "cell_type": "code",
   "execution_count": 3,
   "id": "3580d9d6",
   "metadata": {
    "scrolled": true
   },
   "outputs": [
    {
     "ename": "AssertionError",
     "evalue": "Should be 6",
     "output_type": "error",
     "traceback": [
      "\u001b[1;31m---------------------------------------------------------------------------\u001b[0m",
      "\u001b[1;31mAssertionError\u001b[0m                            Traceback (most recent call last)",
      "Cell \u001b[1;32mIn [3], line 1\u001b[0m\n\u001b[1;32m----> 1\u001b[0m \u001b[38;5;28;01massert\u001b[39;00m \u001b[38;5;28msum\u001b[39m([\u001b[38;5;241m1\u001b[39m,\u001b[38;5;241m1\u001b[39m,\u001b[38;5;241m1\u001b[39m]) \u001b[38;5;241m==\u001b[39m \u001b[38;5;241m6\u001b[39m, \u001b[38;5;124m\"\u001b[39m\u001b[38;5;124mShould be 6\u001b[39m\u001b[38;5;124m\"\u001b[39m\n",
      "\u001b[1;31mAssertionError\u001b[0m: Should be 6"
     ]
    }
   ],
   "source": [
    "assert sum([1,1,1]) == 6, \"Should be 6\""
   ]
  },
  {
   "cell_type": "code",
   "execution_count": 4,
   "id": "5191b574",
   "metadata": {},
   "outputs": [
    {
     "name": "stdout",
     "output_type": "stream",
     "text": [
      "Everything passed\n"
     ]
    }
   ],
   "source": [
    "def test_sum():\n",
    "    assert sum([1,2,3]) == 6, \"Should be 6\"\n",
    "\n",
    "if __name__ == \"__main__\":\n",
    "    test_sum()\n",
    "    print(\"Everything passed\")"
   ]
  },
  {
   "cell_type": "code",
   "execution_count": 5,
   "id": "4bbaa725",
   "metadata": {},
   "outputs": [
    {
     "ename": "AssertionError",
     "evalue": "Should be 6",
     "output_type": "error",
     "traceback": [
      "\u001b[1;31m---------------------------------------------------------------------------\u001b[0m",
      "\u001b[1;31mAssertionError\u001b[0m                            Traceback (most recent call last)",
      "Cell \u001b[1;32mIn [5], line 9\u001b[0m\n\u001b[0;32m      7\u001b[0m \u001b[38;5;28;01mif\u001b[39;00m \u001b[38;5;18m__name__\u001b[39m \u001b[38;5;241m==\u001b[39m \u001b[38;5;124m\"\u001b[39m\u001b[38;5;124m__main__\u001b[39m\u001b[38;5;124m\"\u001b[39m:\n\u001b[0;32m      8\u001b[0m     test_sum()\n\u001b[1;32m----> 9\u001b[0m     \u001b[43mtest_sum_tuple\u001b[49m\u001b[43m(\u001b[49m\u001b[43m)\u001b[49m\n\u001b[0;32m     10\u001b[0m     \u001b[38;5;28mprint\u001b[39m(\u001b[38;5;124m\"\u001b[39m\u001b[38;5;124mEverything passed\u001b[39m\u001b[38;5;124m\"\u001b[39m)\n",
      "Cell \u001b[1;32mIn [5], line 5\u001b[0m, in \u001b[0;36mtest_sum_tuple\u001b[1;34m()\u001b[0m\n\u001b[0;32m      4\u001b[0m \u001b[38;5;28;01mdef\u001b[39;00m \u001b[38;5;21mtest_sum_tuple\u001b[39m():\n\u001b[1;32m----> 5\u001b[0m     \u001b[38;5;28;01massert\u001b[39;00m \u001b[38;5;28msum\u001b[39m((\u001b[38;5;241m1\u001b[39m, \u001b[38;5;241m2\u001b[39m, \u001b[38;5;241m2\u001b[39m)) \u001b[38;5;241m==\u001b[39m \u001b[38;5;241m6\u001b[39m, \u001b[38;5;124m\"\u001b[39m\u001b[38;5;124mShould be 6\u001b[39m\u001b[38;5;124m\"\u001b[39m\n",
      "\u001b[1;31mAssertionError\u001b[0m: Should be 6"
     ]
    }
   ],
   "source": [
    "def test_sum():\n",
    "    assert sum([1, 2, 3]) == 6, \"Should be 6\"\n",
    "\n",
    "def test_sum_tuple():\n",
    "    assert sum((1, 2, 2)) == 6, \"Should be 6\"\n",
    "\n",
    "if __name__ == \"__main__\":\n",
    "    test_sum()\n",
    "    test_sum_tuple()\n",
    "    print(\"Everything passed\")"
   ]
  },
  {
   "cell_type": "code",
   "execution_count": 7,
   "id": "71a31733",
   "metadata": {},
   "outputs": [],
   "source": [
    "#File: ./my_sum/__init__.py\n",
    "\n",
    "def sum(arg):\n",
    "\ttotal = 0\n",
    "\tfor val in arg:\n",
    "\t\ttotal += val\n",
    "\treturn total"
   ]
  },
  {
   "cell_type": "code",
   "execution_count": null,
   "id": "15d85a1d",
   "metadata": {},
   "outputs": [],
   "source": [
    "#File: ./test.py\n",
    "\n",
    "import unittest\n",
    "from my_sum import sum\n",
    "from fractions import Fraction\n",
    "\n",
    "class TestSum(unittest.TestCase):\n",
    "\tdef test_list_int(self):\n",
    "\t\t\"\"\"\n",
    "\t\tTest that it can sum a list of integers\n",
    "\t\t\"\"\"\n",
    "\t\tdata = [1,2,3]\n",
    "\t\tresult = sum(data)\n",
    "\t\tself.assertEqual(result, 6)\n",
    "\n",
    "\tdef test_list_fraction(self):\n",
    "\t\t\"\"\"\n",
    "\t\tTest that it can sum a list of fractions\n",
    "\t\t\"\"\"\n",
    "\t\tdata = [Fraction(1,4), Fraction(1,4), Fraction(2,5)]\n",
    "\t\tresult = sum(data)\n",
    "\t\tself.assertEqual(result, 1)\n",
    "\n",
    "if __name__ == \"__main__\":\n",
    "\tunittest.main()"
   ]
  },
  {
   "cell_type": "code",
   "execution_count": null,
   "id": "7b21edba",
   "metadata": {},
   "outputs": [],
   "source": [
    "\"\"\"\n",
    ">>>python -m unittest discover                   \n",
    "F.                                                                        \n",
    "======================================================================    \n",
    "FAIL: test_list_fraction (test.TestSum)                                   \n",
    "Test that it can sum a list of fractions                                  \n",
    "----------------------------------------------------------------------    \n",
    "Traceback (most recent call last):                                        \n",
    "  File \"D:\\School\\SDEV220\\M05\\Tests\\test.py\", line 20, in test_list_fraction                                                                        \n",
    "    self.assertEqual(result, 1)                                           \n",
    "AssertionError: Fraction(9, 10) != 1                                      \n",
    "                                                                          \n",
    "----------------------------------------------------------------------    \n",
    "Ran 2 tests in 0.001s                                                     \n",
    "                                                                          \n",
    "FAILED (failures=1)                                                       \n",
    "\"\"\"\n",
    "\n",
    "\"\"\"\n",
    "We can see what file had an error.\n",
    "We then see what line caused the error.\n",
    "The AssertionError is what the test found to be wrong.\n",
    "    In this case it found that Fraction(9, 10) does not equal the expected result of 1\n",
    "\"\"\""
   ]
  }
 ],
 "metadata": {
  "kernelspec": {
   "display_name": "Python 3 (ipykernel)",
   "language": "python",
   "name": "python3"
  },
  "language_info": {
   "codemirror_mode": {
    "name": "ipython",
    "version": 3
   },
   "file_extension": ".py",
   "mimetype": "text/x-python",
   "name": "python",
   "nbconvert_exporter": "python",
   "pygments_lexer": "ipython3",
   "version": "3.10.8"
  }
 },
 "nbformat": 4,
 "nbformat_minor": 5
}
