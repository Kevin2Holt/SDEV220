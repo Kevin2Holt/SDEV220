{
 "cells": [
  {
   "cell_type": "code",
   "execution_count": 19,
   "id": "54d3573f",
   "metadata": {},
   "outputs": [],
   "source": [
    "#13.1\n",
    "from datetime import datetime\n",
    "\n",
    "now = datetime.now()\n",
    "\n",
    "f = open(\"today.txt\", \"w\")\n",
    "f.write(now.strftime(\"%Y.%m.%d (YMD) %H:%M:%S\"))\n",
    "f.close()"
   ]
  },
  {
   "cell_type": "code",
   "execution_count": 20,
   "id": "f477f567",
   "metadata": {},
   "outputs": [
    {
     "name": "stdout",
     "output_type": "stream",
     "text": [
      "2022-12-01 11:39:01\n"
     ]
    }
   ],
   "source": [
    "#13.2\n",
    "f = open(\"today.txt\", \"r\")\n",
    "today_string = f.read()\n",
    "f.close()\n",
    "\n",
    "\n",
    "#13.3\n",
    "from datetime import datetime\n",
    "\n",
    "date = datetime.strptime(today_string, \"%Y.%m.%d (YMD) %H:%M:%S\")\n",
    "print(date)"
   ]
  },
  {
   "cell_type": "code",
   "execution_count": null,
   "id": "6f13e966",
   "metadata": {},
   "outputs": [],
   "source": [
    "#15.1\n",
    "from datetime import datetime\n",
    "from multiprocessing import Pool\n",
    "import time\n",
    "import random\n",
    "\n",
    "def doStuff(i):\n",
    "    time.sleep(random.random())\n",
    "    print(datetime.now())\n",
    "\n",
    "if __name__ == \"__main__\":\n",
    "    p = Pool(3)\n",
    "    p.map(doStuff,[1,2,3])\n",
    "\n",
    "\n",
    "#I'm not sure why this doesn't run in notebook.\n",
    "#This exact code works fine in other IDEs, but multiprocessing doesn't seem to print in notebook."
   ]
  },
  {
   "cell_type": "code",
   "execution_count": null,
   "id": "a78ead7e",
   "metadata": {},
   "outputs": [],
   "source": []
  }
 ],
 "metadata": {
  "kernelspec": {
   "display_name": "Python 3 (ipykernel)",
   "language": "python",
   "name": "python3"
  },
  "language_info": {
   "codemirror_mode": {
    "name": "ipython",
    "version": 3
   },
   "file_extension": ".py",
   "mimetype": "text/x-python",
   "name": "python",
   "nbconvert_exporter": "python",
   "pygments_lexer": "ipython3",
   "version": "3.10.8"
  }
 },
 "nbformat": 4,
 "nbformat_minor": 5
}
