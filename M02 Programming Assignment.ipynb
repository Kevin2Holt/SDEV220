{
 "cells": [
  {
   "cell_type": "code",
   "execution_count": null,
   "id": "1ee923db",
   "metadata": {},
   "outputs": [],
   "source": [
    "import random\n",
    "\n",
    "secret = random.randint(1,10)\n",
    "guess = random.randint(1,10)\n",
    "\n",
    "if(guess == secret):\n",
    "\tprint(\"just right\")\n",
    "elif(guess < secret):\n",
    "\tprint(\"too low\")\n",
    "else:\n",
    "\tprint(\"too high\")"
   ]
  },
  {
   "cell_type": "code",
   "execution_count": null,
   "id": "3107fe9e",
   "metadata": {},
   "outputs": [],
   "source": [
    "small = True # array[0]\n",
    "green = True # array[1]\n",
    "\n",
    "cherry = [True,False,\"Cherry\"]\n",
    "pea = [True,True,\"Pea\"]\n",
    "watermelon = [False,True,\"Watermelon\"]\n",
    "pumpkin = [False,False,\"Pumpkin\"]\n",
    "\n",
    "def test(obj):\n",
    "\tif(obj[0] == small & obj[1] == green):\n",
    "\t\tprint(obj[2])\n",
    "\n",
    "test(cherry)\n",
    "test(pea)\n",
    "test(watermelon)\n",
    "test(pumpkin)"
   ]
  },
  {
   "cell_type": "code",
   "execution_count": null,
   "id": "81064a64",
   "metadata": {},
   "outputs": [],
   "source": [
    "for i in [3,2,1,0]:\n",
    "\tprint(i)"
   ]
  },
  {
   "cell_type": "code",
   "execution_count": null,
   "id": "d397ca54",
   "metadata": {},
   "outputs": [],
   "source": [
    "guess_me = 7\n",
    "number = 1\n",
    "\n",
    "while(number):\n",
    "\tif(number < guess_me):\n",
    "\t\tprint(\"too low\")\n",
    "\telif(number == guess_me):\n",
    "\t\tprint(\"found it!\")\n",
    "\t\tbreak\n",
    "\telse:\n",
    "\t\tprint(\"oops\")\n",
    "\t\tbreak\n",
    "\tnumber += 1"
   ]
  },
  {
   "cell_type": "code",
   "execution_count": null,
   "id": "7f7598c5",
   "metadata": {},
   "outputs": [],
   "source": [
    "guess_me = 5\n",
    "\n",
    "for number in range(10):\n",
    "\tif(number < guess_me):\n",
    "\t\tprint(\"too low\")\n",
    "\telif(number == guess_me):\n",
    "\t\tprint(\"found it!\")\n",
    "\t\tbreak\n",
    "\telse:\n",
    "\t\tprint(\"oops\")\n",
    "\t\tbreak"
   ]
  }
 ],
 "metadata": {
  "kernelspec": {
   "display_name": "Python 3 (ipykernel)",
   "language": "python",
   "name": "python3"
  },
  "language_info": {
   "codemirror_mode": {
    "name": "ipython",
    "version": 3
   },
   "file_extension": ".py",
   "mimetype": "text/x-python",
   "name": "python",
   "nbconvert_exporter": "python",
   "pygments_lexer": "ipython3",
   "version": "3.10.8"
  }
 },
 "nbformat": 4,
 "nbformat_minor": 5
}
