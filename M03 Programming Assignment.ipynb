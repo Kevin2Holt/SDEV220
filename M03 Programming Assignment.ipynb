{
 "cells": [
  {
   "cell_type": "code",
   "execution_count": null,
   "id": "01c0a972",
   "metadata": {},
   "outputs": [],
   "source": [
    "#7-4\n",
    "\n",
    "things = [\"mozzarella\",\"cinderella\",\"salmonella\"]"
   ]
  },
  {
   "cell_type": "code",
   "execution_count": null,
   "id": "0f9a06f2",
   "metadata": {},
   "outputs": [],
   "source": [
    "#7-5\n",
    "\n",
    "# This doesn't capitalize it.\n",
    "things[1].capitalize()\n",
    "\n",
    "# This does capitalize it\n",
    "# things[1] = things[1].capitalize()\n",
    "\n",
    "print(things)"
   ]
  },
  {
   "cell_type": "code",
   "execution_count": null,
   "id": "8035e9ee",
   "metadata": {},
   "outputs": [],
   "source": [
    "#7-6\n",
    "\n",
    "things[0] = things[0].upper()\n",
    "\n",
    "print(things)"
   ]
  },
  {
   "cell_type": "code",
   "execution_count": null,
   "id": "aac24f3a",
   "metadata": {},
   "outputs": [],
   "source": [
    "#7-7\n",
    "\n",
    "def collect(text):\n",
    "\tprint(\"You collected\",text,\"!\")\n",
    "\n",
    "\n",
    "things.remove(\"salmonella\")\n",
    "\n",
    "collect(\"Nobel Prize\")\n",
    "\n",
    "print(things)"
   ]
  },
  {
   "cell_type": "code",
   "execution_count": null,
   "id": "25961141",
   "metadata": {},
   "outputs": [],
   "source": [
    "#9-1\n",
    "\n",
    "def good():\n",
    "\treturn [\"Harry\", \"Ron\", \"Hermione\"]\n",
    "\n",
    "print(good())"
   ]
  },
  {
   "cell_type": "code",
   "execution_count": null,
   "id": "910bc309",
   "metadata": {},
   "outputs": [],
   "source": [
    "#9-2\n",
    "\n",
    "def get_odds():\n",
    "\ttempList = []\n",
    "\tfor i in range(10):\n",
    "\t\tif(i%2 == 1):\n",
    "\t\t\ttempList.append(i)\n",
    "\treturn tempList\n",
    "\n",
    "output = get_odds()\n",
    "\n",
    "for i in range(len(output)):\n",
    "\tif(i == 2):\n",
    "\t\tprint(output[i])"
   ]
  }
 ],
 "metadata": {
  "kernelspec": {
   "display_name": "Python 3 (ipykernel)",
   "language": "python",
   "name": "python3"
  },
  "language_info": {
   "codemirror_mode": {
    "name": "ipython",
    "version": 3
   },
   "file_extension": ".py",
   "mimetype": "text/x-python",
   "name": "python",
   "nbconvert_exporter": "python",
   "pygments_lexer": "ipython3",
   "version": "3.10.8"
  }
 },
 "nbformat": 4,
 "nbformat_minor": 5
}
