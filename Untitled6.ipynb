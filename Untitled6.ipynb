{
 "cells": [
  {
   "cell_type": "code",
   "execution_count": 2,
   "id": "432ac583",
   "metadata": {},
   "outputs": [],
   "source": [
    "import zoo as menagerie"
   ]
  },
  {
   "cell_type": "code",
   "execution_count": null,
   "id": "1f82b196",
   "metadata": {},
   "outputs": [],
   "source": [
    "menagerie.help()"
   ]
  },
  {
   "cell_type": "code",
   "execution_count": null,
   "id": "89744ec7",
   "metadata": {},
   "outputs": [],
   "source": [
    "import create_engine from sqlalchemy\n",
    "engine = create_engine(\"sqlite+pysqlite:///:memory:\", echo=True, future=True)\n",
    "\n",
    "engine.connect() as conn:\n",
    "    conn.execute(text(\"CREATE TABLE book (title text, author text, year int)\"))\n",
    "    conn.commit()"
   ]
  },
  {
   "cell_type": "code",
   "execution_count": null,
   "id": "ba25d719",
   "metadata": {},
   "outputs": [],
   "source": [
    "engine.connect() as conn:\n",
    "    conn.execute(text(\"SELECT title FROM book\"))\n",
    "    print(result)"
   ]
  },
  {
   "cell_type": "code",
   "execution_count": null,
   "id": "60336491",
   "metadata": {},
   "outputs": [],
   "source": []
  }
 ],
 "metadata": {
  "kernelspec": {
   "display_name": "Python 3 (ipykernel)",
   "language": "python",
   "name": "python3"
  },
  "language_info": {
   "codemirror_mode": {
    "name": "ipython",
    "version": 3
   },
   "file_extension": ".py",
   "mimetype": "text/x-python",
   "name": "python",
   "nbconvert_exporter": "python",
   "pygments_lexer": "ipython3",
   "version": "3.10.8"
  }
 },
 "nbformat": 4,
 "nbformat_minor": 5
}
